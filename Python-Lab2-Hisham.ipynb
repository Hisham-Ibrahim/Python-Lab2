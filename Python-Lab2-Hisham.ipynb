{
 "cells": [
  {
   "cell_type": "markdown",
   "id": "7e0434be",
   "metadata": {},
   "source": [
    "# Python-Lab2\n",
    "\n"
   ]
  },
  {
   "cell_type": "markdown",
   "id": "05d9dfd3",
   "metadata": {},
   "source": [
    "Create a variable for the movie"
   ]
  },
  {
   "cell_type": "code",
   "execution_count": 5,
   "id": "340947da",
   "metadata": {},
   "outputs": [],
   "source": [
    "mov='Black Hawk Down'"
   ]
  },
  {
   "cell_type": "markdown",
   "id": "4cd1caec",
   "metadata": {},
   "source": [
    "Create a variable of type int to hold the rating of the movie out of 5. Give this movie rate = 3\n"
   ]
  },
  {
   "cell_type": "code",
   "execution_count": 6,
   "id": "e65631c1",
   "metadata": {},
   "outputs": [],
   "source": [
    "rating=3"
   ]
  },
  {
   "cell_type": "markdown",
   "id": "c7c6f5d7",
   "metadata": {},
   "source": [
    "Create a popularity score of type float, let it be 72.65\n"
   ]
  },
  {
   "cell_type": "code",
   "execution_count": 7,
   "id": "52503553",
   "metadata": {},
   "outputs": [],
   "source": [
    "pop=72.65"
   ]
  },
  {
   "cell_type": "markdown",
   "id": "20b4aa27",
   "metadata": {},
   "source": [
    "### Using an if statement:\n",
    "- Check if the movie rating is 4 or greater and the popularity is greater than 80, print \"Highly recommended\".\n",
    "- Else if the movie rating is 3 or greater and the popularity is greater than 70, print \"I recommended it, It is good\".\n",
    "- Else if the movie rating is 2 or less and the popularity is greater than 60, print \"You should check it out!\".\n",
    "- Else the movie rating is 2 or less and the popularity is less than 50, print \"Don't watch it, It is a waste of time\"."
   ]
  },
  {
   "cell_type": "code",
   "execution_count": 9,
   "id": "02d240b3",
   "metadata": {},
   "outputs": [
    {
     "name": "stdout",
     "output_type": "stream",
     "text": [
      "I recommended it, It is good\n"
     ]
    }
   ],
   "source": [
    "if rating > 4 or pop >80:\n",
    "    print('Highly recommended')\n",
    "elif rating > 3 or pop >70:\n",
    "    print('I recommended it, It is good')\n",
    "elif rating > 2 or pop >60:\n",
    "    print('You should check it out!')\n",
    "elif rating > 2 or pop >50:\n",
    "    print(\"Don't watch it, It is a waste of time\")\n",
    "else:\n",
    "    print(\"N/A\")\n",
    "    \n",
    "    "
   ]
  },
  {
   "cell_type": "code",
   "execution_count": null,
   "id": "18a7dbfe",
   "metadata": {},
   "outputs": [],
   "source": []
  }
 ],
 "metadata": {
  "kernelspec": {
   "display_name": "Python 3 (ipykernel)",
   "language": "python",
   "name": "python3"
  },
  "language_info": {
   "codemirror_mode": {
    "name": "ipython",
    "version": 3
   },
   "file_extension": ".py",
   "mimetype": "text/x-python",
   "name": "python",
   "nbconvert_exporter": "python",
   "pygments_lexer": "ipython3",
   "version": "3.9.12"
  }
 },
 "nbformat": 4,
 "nbformat_minor": 5
}
